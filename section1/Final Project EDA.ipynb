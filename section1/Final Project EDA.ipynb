{
 "cells": [
  {
   "cell_type": "markdown",
   "metadata": {},
   "source": [
    "# Preparing the dataset for hippocampus segmentation\n",
    "\n",
    "In this notebook you will use the skills and methods that we have talked about during our EDA Lesson to prepare the hippocampus dataset using Python. Follow the Notebook, writing snippets of code where directed so using Task comments, similar to the one below, which expects you to put the proper imports in place. Write your code directly in the cell with TASK comment. Feel free to add cells as you see fit, but please make sure that code that performs that tasked activity sits in the same cell as the Task comment.\n"
   ]
  },
  {
   "cell_type": "code",
   "execution_count": 1,
   "metadata": {},
   "outputs": [],
   "source": [
    "# TASK: Import the following libraries that we will use: nibabel, matplotlib, numpy\n",
    "import nibabel as nib\n",
    "import matplotlib.pyplot as plt\n",
    "import numpy as np\n",
    "import os\n",
    "import scipy.ndimage as nd"
   ]
  },
  {
   "cell_type": "markdown",
   "metadata": {},
   "source": [
    "It will help your understanding of the data a lot if you were able to use a tool that allows you to view NIFTI volumes, like [3D Slicer](https://www.slicer.org/). I will refer to Slicer throughout this Notebook and will be pasting some images showing what your output might look like."
   ]
  },
  {
   "cell_type": "markdown",
   "metadata": {},
   "source": [
    "## Loading NIFTI images using NiBabel\n",
    "\n",
    "NiBabel is a python library for working with neuro-imaging formats (including NIFTI) that we have used in some of the exercises throughout the course. Our volumes and labels are in NIFTI format, so we will use nibabel to load and inspect them.\n",
    "\n",
    "NiBabel documentation could be found here: https://nipy.org/nibabel/\n",
    "\n",
    "Our dataset sits in two directories - *images* and *labels*. Each image is represented by a single file (we are fortunate to have our data converted to NIFTI) and has a corresponding label file which is named the same as the image file.\n",
    "\n",
    "Note that our dataset is \"dirty\". There are a few images and labels that are not quite right. They should be quite obvious to notice, though. The dataset contains an equal amount of \"correct\" volumes and corresponding labels, and you don't need to alter values of any samples in order to get the clean dataset."
   ]
  },
  {
   "cell_type": "code",
   "execution_count": 2,
   "metadata": {},
   "outputs": [],
   "source": [
    "# TASK: Your data sits in directory /data/TrainingSet.\n",
    "# Load an image and a segmentation mask into variables called image and label\n",
    "ipath = \"/ComputerVision/UDACITY_AI_HEALTHCARE/Course 3 - Applying AI for 3D Medical Imaging/Udacity_AI_Healthcare_P2_Hippocampus-Volume-Quantification/section1/data/TrainingSet/images\"\n",
    "images = [nib.load(os.path.join(ipath, f)) for f in os.listdir(ipath)]\n",
    "mpath= \"/ComputerVision/UDACITY_AI_HEALTHCARE/Course 3 - Applying AI for 3D Medical Imaging/Udacity_AI_Healthcare_P2_Hippocampus-Volume-Quantification/section1/data/TrainingSet/labels\"\n",
    "labels = [nib.load(os.path.join(mpath, f)) for f in os.listdir(mpath)]"
   ]
  },
  {
   "cell_type": "code",
   "execution_count": 3,
   "metadata": {},
   "outputs": [
    {
     "name": "stdout",
     "output_type": "stream",
     "text": [
      "Total number of NIFTI images is 263\n"
     ]
    }
   ],
   "source": [
    "img_1=images[0]\n",
    "labl_1=labels[0]\n",
    "\n",
    "print (\"Total number of NIFTI images is\",len(images))"
   ]
  },
  {
   "cell_type": "code",
   "execution_count": 4,
   "metadata": {},
   "outputs": [
    {
     "name": "stdout",
     "output_type": "stream",
     "text": [
      "Image filename: hippocampus_001.nii.gz\n",
      "Label filename: hippocampus_001.nii.gz\n"
     ]
    }
   ],
   "source": [
    "import os\n",
    "\n",
    "# Extract filenames of the first image and label\n",
    "img_filename = os.path.basename(img_1.get_filename())\n",
    "label_filename = os.path.basename(labl_1.get_filename())\n",
    "\n",
    "print(\"Image filename:\", img_filename)\n",
    "print(\"Label filename:\", label_filename)\n"
   ]
  },
  {
   "cell_type": "code",
   "execution_count": 5,
   "metadata": {},
   "outputs": [],
   "source": [
    "# # Convert NIFTI images to NumPy arrays\n",
    "# img_1 = images[0].get_fdata()\n",
    "# label_1 = labels[0].get_fdata()\n",
    "\n",
    "# # Set the slice index\n",
    "# slice_idx = 16\n",
    "\n",
    "# # # Plot the image with the label overlay\n",
    "# # plt.imshow(img_1[:, :, slice_idx], cmap=\"gray\")  # Show the image slice\n",
    "# # plt.imshow(label_1[:, :, slice_idx] * 500, cmap=\"gray\", alpha=0.5)  # Overlay the label slice with transparency\n",
    "\n",
    "# # plt.axis(\"off\")\n",
    "# # plt.show()\n",
    "\n",
    "# plt.imshow(img_1[:, :, slice_idx] + label_1[:, :, slice_idx]*500, cmap=\"gray\")  # Show the image slice"
   ]
  },
  {
   "cell_type": "code",
   "execution_count": 6,
   "metadata": {},
   "outputs": [
    {
     "name": "stdout",
     "output_type": "stream",
     "text": [
      "Image shape :  (35, 51, 35)\n",
      "Mask image shape :  (35, 51, 35)\n"
     ]
    }
   ],
   "source": [
    "# Nibabel can present your image data as a Numpy array by calling the method get_fdata()\n",
    "# The array will contain a multi-dimensional Numpy array with numerical values representing voxel intensities. \n",
    "# In our case, images and labels are 3-dimensional, so get_fdata will return a 3-dimensional array. You can verify this\n",
    "# by accessing the .shape attribute. What are the dimensions of the input arrays?\n",
    "\n",
    "# TASK: using matplotlib, visualize a few slices from the dataset, along with their labels. \n",
    "# You can adjust plot sizes like so if you find them too small:\n",
    "# plt.rcParams[\"figure.figsize\"] = (10,10)\n",
    "\n",
    "img=img_1.get_fdata()\n",
    "print(\"Image shape : \",img.shape)\n",
    "labl=labl_1.get_fdata()\n",
    "print (\"Mask image shape : \",labl.shape)"
   ]
  },
  {
   "cell_type": "code",
   "execution_count": 7,
   "metadata": {},
   "outputs": [
    {
     "data": {
      "text/plain": [
       "<matplotlib.image.AxesImage at 0x2d8cdc5ffa0>"
      ]
     },
     "execution_count": 7,
     "metadata": {},
     "output_type": "execute_result"
    },
    {
     "data": {
      "image/png": "[encoded data removed]",
      "text/plain": [
       "<Figure size 640x480 with 2 Axes>"
      ]
     },
     "metadata": {},
     "output_type": "display_data"
    }
   ],
   "source": [
    "fig,ax=plt.subplots(1,2)\n",
    "ax[0].imshow(img[13,:,:],cmap=\"gray\")\n",
    "ax[1].imshow(labl[13,:,:],cmap='gray')\n"
   ]
  },
  {
   "cell_type": "code",
   "execution_count": 8,
   "metadata": {},
   "outputs": [
    {
     "name": "stdout",
     "output_type": "stream",
     "text": [
      "Image shape: (35, 51, 35)\n",
      "Label shape: (35, 51, 35)\n"
     ]
    },
    {
     "data": {
      "image/png": "[encoded data removed]",
      "text/plain": [
       "<Figure size 1200x600 with 10 Axes>"
      ]
     },
     "metadata": {},
     "output_type": "display_data"
    }
   ],
   "source": [
    "# Define paths to images and labels\n",
    "ipath = \"/ComputerVision/UDACITY_AI_HEALTHCARE/Course 3 - Applying AI for 3D Medical Imaging/Udacity_AI_Healthcare_P2_Hippocampus-Volume-Quantification/section1/data/TrainingSet/images\"\n",
    "mpath = \"/ComputerVision/UDACITY_AI_HEALTHCARE/Course 3 - Applying AI for 3D Medical Imaging/Udacity_AI_Healthcare_P2_Hippocampus-Volume-Quantification/section1/data/TrainingSet/labels\"\n",
    "\n",
    "# Load an example image and label\n",
    "image_file = os.listdir(ipath)[0]  # Select the first image\n",
    "label_file = os.listdir(mpath)[0]  # Select the corresponding label\n",
    "\n",
    "image = nib.load(os.path.join(ipath, image_file)).get_fdata()\n",
    "label = nib.load(os.path.join(mpath, label_file)).get_fdata()\n",
    "\n",
    "# Check dimensions\n",
    "print(\"Image shape:\", image.shape)\n",
    "print(\"Label shape:\", label.shape)\n",
    "\n",
    "# Plot slices\n",
    "plt.rcParams[\"figure.figsize\"] = (12, 6)\n",
    "fig, axs = plt.subplots(2, 5)\n",
    "\n",
    "# Plot five slices from the image and label\n",
    "for i in range(5):\n",
    "    slice_idx = image.shape[2] // 5 * i\n",
    "\n",
    "    # Image slice\n",
    "    axs[0, i].imshow(image[:, :, slice_idx], cmap=\"gray\")\n",
    "    axs[0, i].set_title(f\"Image Slice {slice_idx}\")\n",
    "    axs[0, i].axis(\"off\")\n",
    "\n",
    "    # Label slice\n",
    "    axs[1, i].imshow(label[:, :, slice_idx], cmap=\"hot\", alpha=0.5)\n",
    "    axs[1, i].set_title(f\"Label Slice {slice_idx}\")\n",
    "    axs[1, i].axis(\"off\")\n",
    "\n",
    "plt.tight_layout()\n",
    "plt.show()\n"
   ]
  },
  {
   "cell_type": "markdown",
   "metadata": {},
   "source": [
    "Load volume into 3D Slicer to validate that your visualization is correct and get a feel for the shape of structures.Try to get a visualization like the one below (hint: while Slicer documentation is not particularly great, there are plenty of YouTube videos available! Just look it up on YouTube if you are not sure how to do something)\n",
    "\n",
    "![3D slicer](img/Slicer.png)"
   ]
  },
  {
   "cell_type": "code",
   "execution_count": 9,
   "metadata": {},
   "outputs": [],
   "source": [
    "# Stand out suggestion: use one of the simple Volume Rendering algorithms that we've\n",
    "# implemented in one of our earlier lessons to visualize some of these volumes\n",
    "vr_image = np.zeros((img.shape[1], img.shape[2]))\n",
    "\n",
    "for x in range(img.shape[0]):\n",
    "    vr_image +=img[x,:,:]"
   ]
  },
  {
   "cell_type": "code",
   "execution_count": 10,
   "metadata": {},
   "outputs": [],
   "source": [
    "vr_mask = np.zeros((img.shape[1], img.shape[2]))\n",
    "\n",
    "for x in range(labl.shape[0]):\n",
    "    vr_mask += labl[x,:,:]"
   ]
  },
  {
   "cell_type": "code",
   "execution_count": 11,
   "metadata": {},
   "outputs": [
    {
     "data": {
      "text/plain": [
       "<matplotlib.image.AxesImage at 0x2d8cf78a380>"
      ]
     },
     "execution_count": 11,
     "metadata": {},
     "output_type": "execute_result"
    },
    {
     "data": {
      "image/png": "[encoded data removed]",
      "text/plain": [
       "<Figure size 1200x600 with 2 Axes>"
      ]
     },
     "metadata": {},
     "output_type": "display_data"
    }
   ],
   "source": [
    "#vizualization of the image and label volume\n",
    "fig, ax = plt.subplots(1,2)\n",
    "ax[0].imshow(nd.rotate(vr_image,90), cmap=\"gray\")\n",
    "ax[1].imshow(nd.rotate(vr_mask,90),cmap='gray')"
   ]
  },
  {
   "cell_type": "markdown",
   "metadata": {},
   "source": [
    "## Looking at single image data\n",
    "In this section we will look closer at the NIFTI representation of our volumes. In order to measure the physical volume of hippocampi, we need to understand the relationship between the sizes of our voxels and the physical world."
   ]
  },
  {
   "cell_type": "code",
   "execution_count": 12,
   "metadata": {
    "scrolled": true
   },
   "outputs": [
    {
     "data": {
      "text/plain": [
       "nibabel.nifti1.Nifti1Header"
      ]
     },
     "execution_count": 12,
     "metadata": {},
     "output_type": "execute_result"
    }
   ],
   "source": [
    "# Nibabel supports many imaging formats, NIFTI being just one of them. I told you that our images \n",
    "# are in NIFTI, but you should confirm if this is indeed the format that we are dealing with\n",
    "# TASK: using .header_class attribute - what is the format of our images?\n",
    "img_1.header_class"
   ]
  },
  {
   "cell_type": "code",
   "execution_count": 13,
   "metadata": {},
   "outputs": [
    {
     "name": "stdout",
     "output_type": "stream",
     "text": [
      "Total images 263\n",
      "NIFTI images 263\n"
     ]
    }
   ],
   "source": [
    "print (\"Total images\",len(images))\n",
    "c=0\n",
    "for im in images:\n",
    "    if im.header_class == nib.nifti1.Nifti1Header:\n",
    "        c+=1\n",
    "print(\"NIFTI images\",c)  "
   ]
  },
  {
   "cell_type": "code",
   "execution_count": 14,
   "metadata": {},
   "outputs": [
    {
     "name": "stdout",
     "output_type": "stream",
     "text": [
      "<class 'nibabel.nifti1.Nifti1Header'> object, endian='<'\n",
      "sizeof_hdr      : 348\n",
      "data_type       : b''\n",
      "db_name         : b''\n",
      "extents         : 0\n",
      "session_error   : 0\n",
      "regular         : b'r'\n",
      "dim_info        : 0\n",
      "dim             : [ 3 35 51 35  1  1  1  1]\n",
      "intent_p1       : 0.0\n",
      "intent_p2       : 0.0\n",
      "intent_p3       : 0.0\n",
      "intent_code     : none\n",
      "datatype        : uint8\n",
      "bitpix          : 8\n",
      "slice_start     : 0\n",
      "pixdim          : [1. 1. 1. 1. 1. 0. 0. 0.]\n",
      "vox_offset      : 0.0\n",
      "scl_slope       : nan\n",
      "scl_inter       : nan\n",
      "slice_end       : 0\n",
      "slice_code      : unknown\n",
      "xyzt_units      : 10\n",
      "cal_max         : 0.0\n",
      "cal_min         : 0.0\n",
      "slice_duration  : 0.0\n",
      "toffset         : 0.0\n",
      "glmax           : 0\n",
      "glmin           : 0\n",
      "descrip         : b'5.0.10'\n",
      "aux_file        : b'none'\n",
      "qform_code      : scanner\n",
      "sform_code      : scanner\n",
      "quatern_b       : 0.0\n",
      "quatern_c       : 0.0\n",
      "quatern_d       : 0.0\n",
      "qoffset_x       : 1.0\n",
      "qoffset_y       : 1.0\n",
      "qoffset_z       : 1.0\n",
      "srow_x          : [1. 0. 0. 1.]\n",
      "srow_y          : [0. 1. 0. 1.]\n",
      "srow_z          : [0. 0. 1. 1.]\n",
      "intent_name     : b''\n",
      "magic           : b'n+1'\n"
     ]
    }
   ],
   "source": [
    "print(img_1.header)"
   ]
  },
  {
   "cell_type": "markdown",
   "metadata": {},
   "source": [
    "Further down we will be inspecting .header attribute that provides access to NIFTI metadata. You can use this resource as a reference for various fields: https://brainder.org/2012/09/23/the-nifti-file-format/"
   ]
  },
  {
   "cell_type": "code",
   "execution_count": 15,
   "metadata": {},
   "outputs": [
    {
     "data": {
      "text/plain": [
       "array(8, dtype=int16)"
      ]
     },
     "execution_count": 15,
     "metadata": {},
     "output_type": "execute_result"
    }
   ],
   "source": [
    "# TASK: How many bits per pixel are used?\n",
    "img_1.header['bitpix']"
   ]
  },
  {
   "cell_type": "markdown",
   "metadata": {},
   "source": [
    "**Answer:** As indicated by the bitpix header, 8 bits are used per pixel"
   ]
  },
  {
   "cell_type": "code",
   "execution_count": 16,
   "metadata": {},
   "outputs": [
    {
     "data": {
      "text/plain": [
       "array(10, dtype=uint8)"
      ]
     },
     "execution_count": 16,
     "metadata": {},
     "output_type": "execute_result"
    }
   ],
   "source": [
    "### TASK: What are the units of measurement?\n",
    "img_1.header['xyzt_units']"
   ]
  },
  {
   "cell_type": "code",
   "execution_count": 17,
   "metadata": {},
   "outputs": [
    {
     "data": {
      "text/plain": [
       "('mm', 'sec')"
      ]
     },
     "execution_count": 17,
     "metadata": {},
     "output_type": "execute_result"
    }
   ],
   "source": [
    "img_1.header.get_xyzt_units()"
   ]
  },
  {
   "cell_type": "markdown",
   "metadata": {},
   "source": [
    "**Answer:** \"xyzt_units\" header has a value of 10. the first 3 bits are for spatial dimensions and next 3 bits for temporal dimensions. 10 is 2+8 which means the units of measurement are millimeter(mm) and seconds"
   ]
  },
  {
   "cell_type": "code",
   "execution_count": 18,
   "metadata": {},
   "outputs": [
    {
     "data": {
      "text/plain": [
       "array([1., 1., 1., 1., 1., 0., 0., 0.], dtype=float32)"
      ]
     },
     "execution_count": 18,
     "metadata": {},
     "output_type": "execute_result"
    }
   ],
   "source": [
    "# TASK: Do we have a regular grid? What are grid spacings?\n",
    "img_1.header['pixdim']"
   ]
  },
  {
   "cell_type": "markdown",
   "metadata": {},
   "source": [
    "**Answer :** The pixdim indicates the grid spacings (unit per dimension). pixdim[1] to pixdim[4] indicates the spacing for the dimensions, which here all are =1, which means regular spacing"
   ]
  },
  {
   "cell_type": "code",
   "execution_count": 19,
   "metadata": {},
   "outputs": [
    {
     "data": {
      "text/plain": [
       "array([ 3, 35, 51, 35,  1,  1,  1,  1], dtype=int16)"
      ]
     },
     "execution_count": 19,
     "metadata": {},
     "output_type": "execute_result"
    }
   ],
   "source": [
    "# TASK: What dimensions represent axial, sagittal, and coronal slices? How do you know?\n",
    "img_1.header['dim']"
   ]
  },
  {
   "cell_type": "markdown",
   "metadata": {},
   "source": [
    "**Answer:** The dim header indicates that the image is 3D (dim[0] = 3). The spatial dimensions are dim[1] to dim[3], corresponding to (x, y, z) = (35, 51, 35). Conventionally:\n",
    "\n",
    "x (dim[1]) = sagittal plane (left–right slices)\n",
    "\n",
    "y (dim[2]) = coronal plane (front–back slices)\n",
    "\n",
    "z (dim[3]) = axial plane (top–bottom slices)"
   ]
  },
  {
   "cell_type": "code",
   "execution_count": 20,
   "metadata": {},
   "outputs": [
    {
     "data": {
      "text/plain": [
       "(1.0, 1.0, 1.0)"
      ]
     },
     "execution_count": 20,
     "metadata": {},
     "output_type": "execute_result"
    }
   ],
   "source": [
    "# By now you should have enough information to decide what are dimensions of a single voxel\n",
    "# TASK: Compute the volume (in mm³) of a hippocampus using one of the labels you've loaded. \n",
    "# You should get a number between ~2200 and ~4500\n",
    "img_1.header.get_zooms()"
   ]
  },
  {
   "cell_type": "markdown",
   "metadata": {},
   "source": [
    "**Answer :** The dimensions of a single voxel are 1 mm × 1 mm × 1 mm, resulting in a voxel volume of 1 mm³."
   ]
  },
  {
   "cell_type": "code",
   "execution_count": 21,
   "metadata": {},
   "outputs": [
    {
     "name": "stdout",
     "output_type": "stream",
     "text": [
      "[0. 1. 2.]\n"
     ]
    }
   ],
   "source": [
    "print (np.unique(labl))"
   ]
  },
  {
   "cell_type": "code",
   "execution_count": 22,
   "metadata": {},
   "outputs": [
    {
     "data": {
      "text/plain": [
       "2948"
      ]
     },
     "execution_count": 22,
     "metadata": {},
     "output_type": "execute_result"
    }
   ],
   "source": [
    "#volume of a hippocampus\n",
    "np.sum(labl>=1)"
   ]
  },
  {
   "cell_type": "markdown",
   "metadata": {},
   "source": [
    "## Plotting some charts"
   ]
  },
  {
   "cell_type": "code",
   "execution_count": 23,
   "metadata": {},
   "outputs": [
    {
     "data": {
      "text/plain": [
       "(array([258.,   3.,   0.,   0.,   0.,   0.,   0.,   0.,   0.,   1.]),\n",
       " array([ 2382.,  4214.,  6046.,  7878.,  9710., 11542., 13374., 15206.,\n",
       "        17038., 18870., 20702.]),\n",
       " <BarContainer object of 10 artists>)"
      ]
     },
     "execution_count": 23,
     "metadata": {},
     "output_type": "execute_result"
    },
    {
     "data": {
      "image/png": "[encoded data removed]",
      "text/plain": [
       "<Figure size 1200x600 with 1 Axes>"
      ]
     },
     "metadata": {},
     "output_type": "display_data"
    }
   ],
   "source": [
    "# TASK: Plot a histogram of all volumes that we have in our dataset and see how \n",
    "# our dataset measures against a slice of a normal population represented by the chart below.\n",
    "vol=np.array([np.sum(l.get_fdata()>=1) for l in labels])\n",
    "plt.xlabel(\"hippocampus volume\")\n",
    "plt.ylabel(\"Count\")\n",
    "plt.grid(\"on\")\n",
    "plt.hist(vol)"
   ]
  },
  {
   "cell_type": "code",
   "execution_count": 24,
   "metadata": {},
   "outputs": [
    {
     "name": "stdout",
     "output_type": "stream",
     "text": [
      "1\n",
      "2382\n",
      "20702\n",
      "262\n"
     ]
    }
   ],
   "source": [
    "print(np.sum(vol>4500))\n",
    "print (np.min(vol))\n",
    "print (np.max(vol))\n",
    "print (len(vol))"
   ]
  },
  {
   "cell_type": "markdown",
   "metadata": {},
   "source": [
    "<img src=\"img/nomogram_fem_right.svg\" width=400 align=left>"
   ]
  },
  {
   "cell_type": "markdown",
   "metadata": {},
   "source": [
    "Do you see any outliers? Why do you think it's so (might be not immediately obvious, but it's always a good idea to inspect) outliers closer. If you haven't found the images that do not belong, the histogram may help you."
   ]
  },
  {
   "cell_type": "markdown",
   "metadata": {},
   "source": [
    "In the real world we would have precise information about the ages and conditions of our patients, and understanding how our dataset measures against population norm would be the integral part of clinical validation that we talked about in last lesson. Unfortunately, we do not have this information about this dataset, so we can only guess why it measures the way it is. If you would like to explore further, you can use the [calculator from HippoFit project](http://www.smanohar.com/biobank/calculator.html) to see how our dataset compares against different population slices"
   ]
  },
  {
   "cell_type": "markdown",
   "metadata": {},
   "source": [
    "Did you notice anything odd about the label files? We hope you did! The mask seems to have two classes, labeled with values `1` and `2` respectively. If you visualized sagittal or axial views, you might have gotten a good guess of what those are. Class 1 is the anterior segment of the hippocampus and class 2 is the posterior one. \n",
    "\n",
    "For the purpose of volume calculation we do not care about the distinction, however we will still train our network to differentiate between these two classes and the background"
   ]
  },
  {
   "cell_type": "code",
   "execution_count": 25,
   "metadata": {},
   "outputs": [
    {
     "name": "stdout",
     "output_type": "stream",
     "text": [
      "Image size of image with incorrect sizes, probably corrupt : (512, 512, 241), file name: hippocampus_010.nii.gz\n",
      "Image size of image with incorrect sizes, probably corrupt : (512, 512, 31), file name: hippocampus_281.nii.gz\n",
      "Final numner of files that can be used for training is  260\n"
     ]
    }
   ],
   "source": [
    "# TASK: Copy the clean dataset to the output folder inside section1/out. You will use it in the next Section\n",
    "images_final,labels_final=[],[]\n",
    "timages_final,tlabels_final=[],[]\n",
    "\n",
    "if not os.path.exists('out/images'):\n",
    "    os.makedirs('out/images')\n",
    "    \n",
    "if not os.path.exists('out/labels'):\n",
    "    os.makedirs('out/labels')\n",
    "\n",
    "ti_path = 'out/images'\n",
    "tm_path = 'out/labels'\n",
    "\n",
    "for f in os.listdir(mpath):\n",
    "    fp=os.path.join(mpath, f)\n",
    "    mask =nib.load(os.path.join(mpath, f)).get_fdata() \n",
    "    image=nib.load(os.path.join(ipath, f)).get_fdata()\n",
    "    \n",
    "    if (np.sum(mask>=1) <=4700) and (image.shape[0] <=64):\n",
    "        \n",
    "        images_final.append(os.path.join(ipath, f))\n",
    "        labels_final.append(fp)\n",
    "        timages_final.append(os.path.join(ti_path, f))\n",
    "        tlabels_final.append(os.path.join(tm_path, f))\n",
    "     \n",
    "    else:\n",
    "        print (\"Image size of image with incorrect sizes, probably corrupt : {}, file name: {}\".format(image.shape , f))\n",
    "print (\"Final numner of files that can be used for training is \",len(labels_final))\n",
    "\n",
    "import shutil\n",
    "ci=[shutil.copy(si,ti) for si,ti in zip(images_final,timages_final)]\n",
    "cl=[shutil.copy(si,ti) for si,ti in zip(labels_final,tlabels_final)]"
   ]
  },
  {
   "cell_type": "code",
   "execution_count": 26,
   "metadata": {},
   "outputs": [
    {
     "data": {
      "image/png": "[encoded data removed]",
      "text/plain": [
       "<Figure size 1000x400 with 1 Axes>"
      ]
     },
     "metadata": {},
     "output_type": "display_data"
    }
   ],
   "source": [
    "valid_masks=[nib.load(os.path.join(mpath, l)).get_fdata() for l in labels_final]\n",
    "vol=[np.sum(mask>=1) for mask in valid_masks]\n",
    "plt.rcParams[\"figure.figsize\"] = (10,4)\n",
    "plt.xlabel(\"hippocampus volume\")\n",
    "plt.ylabel(\"Count\")\n",
    "plt.grid(\"on\")\n",
    "total=plt.hist(vol,bins=20)"
   ]
  },
  {
   "cell_type": "code",
   "execution_count": 27,
   "metadata": {},
   "outputs": [
    {
     "data": {
      "image/png": "[encoded data removed]",
      "text/plain": [
       "<Figure size 1000x400 with 1 Axes>"
      ]
     },
     "metadata": {},
     "output_type": "display_data"
    }
   ],
   "source": [
    "post_vol=[np.sum(mask==2) for mask in valid_masks]\n",
    "    \n",
    "plt.xlabel(\"hippocampus volume\")\n",
    "plt.ylabel(\"Count\")\n",
    "plt.grid(\"on\")\n",
    "posterior=plt.hist(post_vol,bins=20)"
   ]
  },
  {
   "cell_type": "code",
   "execution_count": 28,
   "metadata": {},
   "outputs": [
    {
     "data": {
      "image/png": "[encoded data removed]",
      "text/plain": [
       "<Figure size 1000x400 with 1 Axes>"
      ]
     },
     "metadata": {},
     "output_type": "display_data"
    }
   ],
   "source": [
    "ant_vol=[np.sum(mask==1) for mask in valid_masks]\n",
    "plt.xlabel(\"hippocampus volume\")\n",
    "plt.ylabel(\"Count\")\n",
    "plt.grid(\"on\")\n",
    "anterior=plt.hist(ant_vol,bins=20)"
   ]
  },
  {
   "cell_type": "markdown",
   "metadata": {},
   "source": [
    "## Final remarks\n",
    "\n",
    "Congratulations! You have finished Section 1. \n",
    "\n",
    "In this section you have inspected a dataset of MRI scans and related segmentations, represented as NIFTI files. We have visualized some slices, and understood the layout of the data. We have inspected file headers to understand what how the image dimensions relate to the physical world and we have understood how to measure our volume. We have then inspected dataset for outliers, and have created a clean set that is ready for consumption by our ML algorithm. \n",
    "\n",
    "In the next section you will create training and testing pipelines for a UNet-based machine learning model, run and monitor the execution, and will produce test metrics. This will arm you with all you need to use the model in the clinical context and reason about its performance!"
   ]
  }
 ],
 "metadata": {
  "kernelspec": {
   "display_name": "nanodegreeCV6",
   "language": "python",
   "name": "python3"
  },
  "language_info": {
   "codemirror_mode": {
    "name": "ipython",
    "version": 3
   },
   "file_extension": ".py",
   "mimetype": "text/x-python",
   "name": "python",
   "nbconvert_exporter": "python",
   "pygments_lexer": "ipython3",
   "version": "3.10.16"
  }
 },
 "nbformat": 4,
 "nbformat_minor": 4
}
