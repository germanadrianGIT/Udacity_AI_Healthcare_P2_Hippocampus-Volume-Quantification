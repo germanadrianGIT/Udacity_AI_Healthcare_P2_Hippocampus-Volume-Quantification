{
 "cells": [
  {
   "cell_type": "markdown",
   "metadata": {},
   "source": [
    "# Preparing the dataset for hippocampus segmentation\n",
    "\n",
    "In this notebook you will use the skills and methods that we have talked about during our EDA Lesson to prepare the hippocampus dataset using Python. Follow the Notebook, writing snippets of code where directed so using Task comments, similar to the one below, which expects you to put the proper imports in place. Write your code directly in the cell with TASK comment. Feel free to add cells as you see fit, but please make sure that code that performs that tasked activity sits in the same cell as the Task comment.\n"
   ]
  },
  {
   "cell_type": "code",
   "execution_count": 24,
   "metadata": {},
   "outputs": [],
   "source": [
    "# TASK: Import the following libraries that we will use: nibabel, matplotlib, numpy\n",
    "import nibabel as nib\n",
    "import matplotlib.pyplot as plt\n",
    "import numpy as np\n",
    "import os\n",
    "import scipy.ndimage as nd"
   ]
  },
  {
   "cell_type": "markdown",
   "metadata": {},
   "source": [
    "It will help your understanding of the data a lot if you were able to use a tool that allows you to view NIFTI volumes, like [3D Slicer](https://www.slicer.org/). I will refer to Slicer throughout this Notebook and will be pasting some images showing what your output might look like."
   ]
  },
  {
   "cell_type": "markdown",
   "metadata": {},
   "source": [
    "## Loading NIFTI images using NiBabel\n",
    "\n",
    "NiBabel is a python library for working with neuro-imaging formats (including NIFTI) that we have used in some of the exercises throughout the course. Our volumes and labels are in NIFTI format, so we will use nibabel to load and inspect them.\n",
    "\n",
    "NiBabel documentation could be found here: https://nipy.org/nibabel/\n",
    "\n",
    "Our dataset sits in two directories - *images* and *labels*. Each image is represented by a single file (we are fortunate to have our data converted to NIFTI) and has a corresponding label file which is named the same as the image file.\n",
    "\n",
    "Note that our dataset is \"dirty\". There are a few images and labels that are not quite right. They should be quite obvious to notice, though. The dataset contains an equal amount of \"correct\" volumes and corresponding labels, and you don't need to alter values of any samples in order to get the clean dataset."
   ]
  },
  {
   "cell_type": "code",
   "execution_count": 25,
   "metadata": {},
   "outputs": [],
   "source": [
    "# TASK: Your data sits in directory /data/TrainingSet.\n",
    "# Load an image and a segmentation mask into variables called image and label\n",
    "ipath = \"/ComputerVision/UDACITY_AI_HEALTHCARE/Course 3 - Applying AI for 3D Medical Imaging/Udacity_AI_Healthcare_P2_Hippocampus-Volume-Quantification/section1/data/TrainingSet/images\"\n",
    "images = [nib.load(os.path.join(ipath, f)) for f in os.listdir(ipath)]\n",
    "mpath= \"/ComputerVision/UDACITY_AI_HEALTHCARE/Course 3 - Applying AI for 3D Medical Imaging/Udacity_AI_Healthcare_P2_Hippocampus-Volume-Quantification/section1/data/TrainingSet/labels\"\n",
    "labels = [nib.load(os.path.join(mpath, f)) for f in os.listdir(mpath)]"
   ]
  },
  {
   "cell_type": "code",
   "execution_count": 26,
   "metadata": {},
   "outputs": [
    {
     "name": "stdout",
     "output_type": "stream",
     "text": [
      "Total number of NIFTI images is 263\n"
     ]
    }
   ],
   "source": [
    "img_1=images[0]\n",
    "labl_1=labels[0]\n",
    "\n",
    "print (\"Total number of NIFTI images is\",len(images))"
   ]
  },
  {
   "cell_type": "code",
   "execution_count": 27,
   "metadata": {},
   "outputs": [
    {
     "name": "stdout",
     "output_type": "stream",
     "text": [
      "Image filename: hippocampus_001.nii.gz\n",
      "Label filename: hippocampus_001.nii.gz\n"
     ]
    }
   ],
   "source": [
    "# Extract filenames of the first image and label\n",
    "img_filename = os.path.basename(img_1.get_filename())\n",
    "label_filename = os.path.basename(labl_1.get_filename())\n",
    "\n",
    "print(\"Image filename:\", img_filename)\n",
    "print(\"Label filename:\", label_filename)\n"
   ]
  },
  {
   "cell_type": "code",
   "execution_count": 28,
   "metadata": {},
   "outputs": [],
   "source": [
    "# # Convert NIFTI images to NumPy arrays\n",
    "# img_1 = images[0].get_fdata()\n",
    "# label_1 = labels[0].get_fdata()\n",
    "\n",
    "# # Set the slice index\n",
    "# slice_idx = 16\n",
    "\n",
    "# # # Plot the image with the label overlay\n",
    "# # plt.imshow(img_1[:, :, slice_idx], cmap=\"gray\")  # Show the image slice\n",
    "# # plt.imshow(label_1[:, :, slice_idx] * 500, cmap=\"gray\", alpha=0.5)  # Overlay the label slice with transparency\n",
    "\n",
    "# # plt.axis(\"off\")\n",
    "# # plt.show()\n",
    "\n",
    "# plt.imshow(img_1[:, :, slice_idx] + label_1[:, :, slice_idx]*500, cmap=\"gray\")  # Show the image slice"
   ]
  },
  {
   "cell_type": "code",
   "execution_count": 29,
   "metadata": {},
   "outputs": [
    {
     "name": "stdout",
     "output_type": "stream",
     "text": [
      "Image shape :  (35, 51, 35)\n",
      "Mask image shape :  (35, 51, 35)\n"
     ]
    }
   ],
   "source": [
    "# Nibabel can present your image data as a Numpy array by calling the method get_fdata()\n",
    "# The array will contain a multi-dimensional Numpy array with numerical values representing voxel intensities. \n",
    "# In our case, images and labels are 3-dimensional, so get_fdata will return a 3-dimensional array. You can verify this\n",
    "# by accessing the .shape attribute. What are the dimensions of the input arrays?\n",
    "\n",
    "# TASK: using matplotlib, visualize a few slices from the dataset, along with their labels. \n",
    "# You can adjust plot sizes like so if you find them too small:\n",
    "# plt.rcParams[\"figure.figsize\"] = (10,10)\n",
    "\n",
    "img=img_1.get_fdata()\n",
    "print(\"Image shape : \",img.shape)\n",
    "labl=labl_1.get_fdata()\n",
    "print (\"Mask image shape : \",labl.shape)"
   ]
  },
  {
   "cell_type": "code",
   "execution_count": 30,
   "metadata": {},
   "outputs": [
    {
     "data": {
      "text/plain": [
       "<matplotlib.image.AxesImage at 0x1d528199990>"
      ]
     },
     "execution_count": 30,
     "metadata": {},
     "output_type": "execute_result"
    },
    {
     "data": {
      "image/png": "[encoded data removed]",
      "text/plain": [
       "<Figure size 1200x600 with 2 Axes>"
      ]
     },
     "metadata": {},
     "output_type": "display_data"
    }
   ],
   "source": [
    "fig,ax=plt.subplots(1,2)\n",
    "ax[0].imshow(img[10,:,:],cmap=\"gray\")\n",
    "ax[1].imshow(labl[10,:,:],cmap='gray')\n"
   ]
  },
  {
   "cell_type": "code",
   "execution_count": 31,
   "metadata": {},
   "outputs": [
    {
     "name": "stdout",
     "output_type": "stream",
     "text": [
      "🧠 Image Slice Values (img[13, :, :]):\n",
      "[[ 54.  56.  51.  49.  38.  30.  34.  41.  49.  64.  73.  57.  42.  37.\n",
      "   32.  37.  46.  65.  79.  61.  44.  38.  39.  48.  73.  81.  42.  13.\n",
      "   13.  12.  10.  10.  10.  12.  13.]\n",
      " [ 59.  59.  51.  50.  44.  33.  32.  40.  48.  62.  80.  77.  58.  44.\n",
      "   41.  40.  46.  65.  76.  58.  43.  39.  38.  47.  74.  86.  45.  12.\n",
      "   13.  10.  11.  12.  11.  10.  10.]\n",
      " [ 61.  52.  46.  49.  41.  33.  36.  42.  48.  61.  81.  91.  80.  63.\n",
      "   58.  57.  63.  73.  67.  49.  41.  36.  35.  48.  75.  85.  42.  12.\n",
      "    8.   8.  10.  12.  11.  12.  13.]\n",
      " [ 56.  48.  42.  42.  39.  36.  39.  44.  49.  60.  77.  86.  87.  81.\n",
      "   78.  76.  73.  66.  52.  43.  39.  32.  35.  49.  74.  69.  24.  16.\n",
      "   19.  13.  11.  11.  10.  11.  18.]\n",
      " [ 52.  47.  43.  41.  41.  38.  37.  41.  48.  60.  75.  83.  83.  76.\n",
      "   73.  68.  56.  49.  42.  38.  34.  31.  40.  54.  74.  52.  10.  13.\n",
      "   14.  10.  10.   6.  11.  26.  37.]\n",
      " [ 50.  42.  38.  46.  43.  35.  37.  43.  48.  57.  74.  82.  67.  52.\n",
      "   50.  47.  46.  41.  33.  30.  31.  37.  44.  61.  73.  42.  15.  11.\n",
      "   12.   8.   9.  12.  26.  45.  59.]\n",
      " [ 49.  41.  42.  50.  43.  35.  39.  43.  45.  54.  75.  76.  49.  39.\n",
      "   42.  40.  38.  34.  33.  35.  38.  40.  49.  75.  62.  16.  14.  16.\n",
      "   14.  16.  19.  21.  43.  61.  74.]\n",
      " [ 49.  43.  52.  53.  41.  33.  32.  35.  40.  54.  76.  69.  41.  32.\n",
      "   33.  30.  28.  32.  37.  40.  43.  53.  71.  73.  34.  10.  14.  12.\n",
      "   10.  14.  20.  28.  48.  68.  82.]\n",
      " [ 46.  46.  55.  52.  36.  23.  24.  38.  46.  56.  77.  69.  40.  31.\n",
      "   27.  19.  26.  38.  42.  51.  61.  76.  76.  41.  19.  16.  14.  12.\n",
      "   12.  19.  28.  40.  56.  71.  85.]\n",
      " [ 47.  52.  53.  48.  39.  31.  34.  46.  51.  63.  84.  72.  42.  34.\n",
      "   32.  26.  30.  39.  46.  63.  79.  81.  50.  19.  20.  20.  15.  12.\n",
      "   19.  28.  36.  50.  64.  75.  85.]\n",
      " [ 55.  57.  52.  45.  46.  46.  48.  50.  56.  71.  87.  80.  54.  40.\n",
      "   39.  35.  33.  39.  45.  65.  85.  69.  35.  27.  30.  29.  30.  29.\n",
      "   32.  40.  48.  60.  71.  78.  90.]\n",
      " [ 59.  53.  48.  44.  44.  45.  47.  52.  64.  79.  88.  85.  65.  48.\n",
      "   44.  36.  32.  34.  41.  63.  81.  60.  40.  45.  46.  40.  40.  42.\n",
      "   43.  51.  62.  75.  86.  88.  97.]\n",
      " [ 54.  43.  45.  43.  38.  40.  45.  56.  73.  84.  83.  72.  54.  44.\n",
      "   44.  39.  34.  35.  42.  64.  72.  53.  45.  51.  55.  42.  37.  47.\n",
      "   53.  64.  84.  97. 101. 100. 101.]\n",
      " [ 51.  42.  46.  43.  40.  44.  48.  64.  81.  80.  65.  52.  43.  39.\n",
      "   39.  37.  39.  43.  54.  71.  68.  53.  53.  60.  61.  44.  39.  56.\n",
      "   76.  89. 103. 108. 104. 103.  98.]\n",
      " [ 52.  49.  44.  38.  40.  44.  55.  74.  79.  62.  47.  42.  38.  34.\n",
      "   34.  35.  40.  48.  66.  73.  58.  53.  59.  67.  62.  52.  65.  81.\n",
      "   93. 103. 106. 104. 102. 102.  95.]\n",
      " [ 53.  52.  42.  36.  38.  43.  62.  77.  66.  48.  40.  37.  34.  29.\n",
      "   33.  39.  45.  62.  74.  62.  51.  54.  63.  68.  62.  71.  85.  95.\n",
      "  100. 102. 104. 102. 103.  97.  97.]\n",
      " [ 54.  52.  42.  39.  41.  50.  67.  68.  54.  46.  35.  31.  35.  36.\n",
      "   40.  47.  60.  70.  58.  48.  53.  61.  75.  75.  77.  90.  91.  96.\n",
      "  104. 105. 103. 104. 102.  98.  99.]\n",
      " [ 52.  42.  38.  42.  42.  58.  68.  57.  50.  41.  32.  36.  40.  44.\n",
      "   50.  64.  73.  60.  47.  47.  55.  71.  83.  81.  91.  96.  97. 101.\n",
      "  103. 105. 103. 104.  99.  94.  95.]\n",
      " [ 44.  33.  37.  43.  46.  62.  60.  48.  44.  33.  35.  42.  43.  50.\n",
      "   66.  82.  69.  48.  47.  51.  64.  81.  85.  88.  99.  97. 101. 102.\n",
      "  100. 101. 100.  98.  95.  95.  98.]\n",
      " [ 42.  36.  41.  43.  50.  59.  50.  44.  37.  31.  40.  44.  52.  66.\n",
      "   80.  77.  53.  45.  49.  55.  72.  83.  87.  96.  99.  98.  97.  95.\n",
      "   98.  98.  98.  99.  96. 100. 100.]\n",
      " [ 38.  38.  42.  43.  52.  53.  46.  44.  37.  35.  41.  46.  58.  76.\n",
      "   75.  56.  43.  47.  53.  67.  83.  83.  93.  96.  91.  96.  95.  97.\n",
      "  102. 102. 101. 100.  96.  96.  98.]\n",
      " [ 31.  38.  42.  42.  50.  50.  45.  40.  36.  36.  41.  44.  55.  71.\n",
      "   60.  43.  44.  48.  60.  81.  89.  88.  97.  96.  93.  93.  98. 102.\n",
      "  103. 104. 102.  96.  94.  92.  92.]\n",
      " [ 37.  44.  42.  44.  47.  49.  46.  39.  32.  31.  40.  46.  56.  66.\n",
      "   51.  41.  50.  53.  66.  85.  86.  94.  99.  97.  98.  97. 100. 100.\n",
      "  100.  97.  91.  88.  91.  93.  92.]\n",
      " [ 43.  49.  45.  50.  45.  45.  41.  36.  33.  26.  38.  50.  62.  66.\n",
      "   49.  43.  50.  57.  75.  84.  87. 100. 101.  99.  99.  98. 102. 104.\n",
      "   99.  92.  82.  76.  78.  84.  83.]\n",
      " [ 43.  43.  40.  47.  44.  43.  37.  32.  33.  30.  39.  49.  63.  69.\n",
      "   50.  46.  52.  60.  77.  79.  91. 103.  98.  98.  99.  99. 102. 104.\n",
      "   92.  82.  78.  68.  68.  75.  73.]\n",
      " [ 41.  37.  33.  39.  41.  43.  38.  35.  37.  38.  43.  51.  68.  71.\n",
      "   50.  48.  55.  64.  71.  77. 100. 105.  94.  97. 102. 102. 100.  94.\n",
      "   77.  69.  70.  67.  70.  72.  69.]\n",
      " [ 34.  27.  26.  34.  36.  41.  40.  42.  42.  42.  45.  59.  72.  65.\n",
      "   48.  49.  57.  63.  62.  81. 103. 101.  95.  97. 101.  95.  88.  80.\n",
      "   72.  70.  68.  71.  71.  70.  69.]\n",
      " [ 25.  19.  25.  35.  39.  42.  39.  41.  42.  43.  51.  69.  71.  53.\n",
      "   44.  49.  58.  60.  61.  92. 102.  91.  94.  97.  94.  80.  73.  71.\n",
      "   73.  76.  71.  72.  73.  69.  67.]\n",
      " [ 19.  19.  32.  39.  46.  44.  38.  40.  46.  51.  64.  79.  67.  46.\n",
      "   46.  52.  58.  58.  67.  99. 100.  92.  99.  96.  86.  75.  70.  68.\n",
      "   70.  75.  73.  74.  75.  70.  71.]\n",
      " [ 21.  20.  37.  40.  43.  46.  46.  48.  53.  61.  72.  75.  58.  41.\n",
      "   46.  52.  55.  54.  72.  98.  98.  97. 100.  91.  78.  72.  70.  71.\n",
      "   72.  72.  74.  75.  71.  71.  75.]\n",
      " [ 33.  29.  41.  45.  47.  53.  54.  53.  60.  72.  75.  67.  49.  41.\n",
      "   44.  51.  53.  56.  83.  99. 100.  97.  87.  78.  71.  70.  73.  75.\n",
      "   74.  72.  73.  73.  71.  74.  72.]\n",
      " [ 42.  42.  47.  51.  54.  56.  54.  58.  73.  83.  75.  60.  46.  43.\n",
      "   47.  51.  50.  63.  98. 101.  98.  91.  75.  68.  69.  71.  73.  76.\n",
      "   76.  71.  72.  80.  77.  75.  77.]\n",
      " [ 44.  45.  53.  56.  54.  55.  59.  73.  85.  82.  66.  52.  47.  44.\n",
      "   46.  47.  47.  75. 102.  96.  86.  74.  67.  66.  69.  72.  72.  77.\n",
      "   75.  71.  74.  78.  76.  73.  77.]\n",
      " [ 50.  49.  58.  64.  62.  65.  78.  92.  86.  66.  49.  45.  49.  44.\n",
      "   44.  42.  53.  91. 102.  88.  73.  65.  63.  67.  70.  72.  76.  75.\n",
      "   75.  76.  76.  77.  73.  78.  80.]\n",
      " [ 54.  53.  61.  71.  75.  82.  94. 101.  78.  45.  39.  45.  50.  48.\n",
      "   46.  44.  71. 102.  96.  74.  63.  62.  58.  68.  71.  70.  75.  75.\n",
      "   78.  79.  77.  78.  76.  78.  78.]\n",
      " [ 54.  57.  67.  78.  85.  91.  99.  96.  63.  38.  41.  45.  47.  49.\n",
      "   46.  58.  92. 102.  81.  60.  61.  61.  57.  68.  73.  72.  72.  72.\n",
      "   75.  76.  75.  78.  77.  77.  76.]\n",
      " [ 55.  60.  73.  84.  88.  89.  96.  86.  53.  42.  44.  45.  46.  41.\n",
      "   50.  74. 100.  94.  69.  60.  72.  72.  67.  70.  72.  69.  72.  75.\n",
      "   76.  77.  76.  79.  75.  76.  79.]\n",
      " [ 56.  64.  79.  86.  86.  88.  95.  80.  49.  44.  47.  47.  41.  41.\n",
      "   64.  85.  94.  87.  73.  75.  87.  79.  69.  67.  66.  66.  74.  77.\n",
      "   81.  82.  77.  78.  76.  73.  75.]\n",
      " [ 61.  75.  87.  85.  84.  88.  97.  72.  37.  39.  40.  36.  33.  53.\n",
      "   78.  90.  87.  88.  87.  91.  95.  82.  67.  64.  65.  67.  74.  74.\n",
      "   79.  80.  76.  75.  73.  71.  72.]\n",
      " [ 71.  88.  92.  81.  80.  87.  95.  61.  24.  28.  30.  23.  35.  69.\n",
      "   88.  94.  91.  98.  95.  95.  93.  82.  68.  61.  65.  68.  71.  68.\n",
      "   75.  79.  76.  71.  70.  72.  73.]\n",
      " [ 87.  93.  89.  81.  77.  88.  95.  53.  16.  17.  20.  21.  49.  84.\n",
      "   95.  95.  99. 105.  96.  93.  89.  79.  65.  61.  66.  66.  67.  67.\n",
      "   71.  76.  75.  69.  70.  75.  76.]\n",
      " [ 93.  91.  85.  77.  73.  86.  93.  45.  12.  12.  18.  35.  72.  94.\n",
      "   98.  98. 101.  98.  98.  96.  89.  79.  64.  62.  65.  65.  65.  67.\n",
      "   70.  72.  71.  71.  73.  73.  71.]\n",
      " [ 94.  92.  86.  77.  76.  86.  87.  37.  15.  15.  30.  67.  94. 100.\n",
      "   99.  99.  97.  92.  94.  91.  86.  77.  62.  60.  62.  65.  66.  64.\n",
      "   67.  71.  70.  72.  75.  74.  69.]\n",
      " [ 98.  97.  87.  81.  79.  86.  81.  30.  18.  21.  51.  89. 102. 102.\n",
      "   94.  90.  90.  89.  88.  85.  85.  79.  61.  56.  63.  67.  66.  64.\n",
      "   63.  67.  70.  72.  73.  70.  66.]\n",
      " [ 97.  96.  85.  84.  84.  87.  72.  22.  23.  47.  81.  95.  96.  92.\n",
      "   85.  82.  85.  86.  85.  85.  85.  83.  65.  57.  67.  67.  65.  67.\n",
      "   65.  65.  66.  69.  71.  66.  64.]\n",
      " [ 90.  94.  84.  85.  86.  90.  70.  25.  47.  84.  92.  89.  83.  79.\n",
      "   81.  81.  80.  83.  84.  86.  82.  81.  73.  60.  63.  61.  65.  69.\n",
      "   65.  62.  66.  68.  68.  67.  69.]\n",
      " [ 88.  89.  84.  85.  90.  95.  78.  55.  79.  95.  84.  74.  74.  77.\n",
      "   77.  75.  77.  85.  85.  87.  83.  84.  78.  63.  57.  58.  65.  67.\n",
      "   62.  61.  67.  65.  68.  70.  71.]\n",
      " [ 87.  86.  83.  87.  93.  93.  83.  84.  94.  89.  76.  71.  75.  73.\n",
      "   65.  62.  73.  87.  90.  89.  89.  88.  79.  65.  55.  58.  66.  65.\n",
      "   63.  65.  69.  66.  68.  73.  73.]\n",
      " [ 87.  86.  86.  95.  96.  91.  85.  93.  96.  86.  77.  76.  70.  61.\n",
      "   57.  57.  65.  77.  87.  89.  90.  86.  76.  69.  60.  63.  68.  66.\n",
      "   68.  68.  69.  69.  71.  76.  77.]\n",
      " [ 82.  82.  89.  96.  94.  89.  89.  91.  93.  83.  74.  72.  61.  53.\n",
      "   55.  56.  58.  62.  77.  87.  88.  84.  74.  68.  64.  65.  69.  69.\n",
      "   71.  72.  77.  77.  76.  80.  79.]\n",
      " [ 77.  81.  88.  91.  88.  88.  92.  93.  91.  81.  69.  67.  62.  59.\n",
      "   58.  52.  56.  60.  71.  85.  85.  81.  73.  64.  65.  66.  68.  72.\n",
      "   75.  77.  84.  86.  87.  86.  83.]]\n",
      "\n",
      "🏷️ Label Slice Values (labl[13, :, :]):\n",
      "[[0 0 0 0 0 0 0 0 0 0 0 0 0 0 0 0 0 0 0 0 0 0 0 0 0 0 0 0 0 0 0 0 0 0 0]\n",
      " [0 0 0 0 0 0 0 0 0 0 0 0 0 0 0 0 0 0 0 0 0 0 0 0 0 0 0 0 0 0 0 0 0 0 0]\n",
      " [0 0 0 0 0 0 0 0 0 0 0 0 0 0 0 0 0 0 0 0 0 0 0 0 0 0 0 0 0 0 0 0 0 0 0]\n",
      " [0 0 0 0 0 0 0 0 0 0 0 0 0 0 0 0 0 0 0 0 0 0 0 0 0 0 0 0 0 0 0 0 0 0 0]\n",
      " [0 0 0 0 0 0 0 0 0 0 0 0 0 0 0 0 0 0 0 0 0 0 0 0 0 0 0 0 0 0 0 0 0 0 0]\n",
      " [0 0 0 0 0 0 0 0 0 0 0 0 0 0 0 0 0 0 0 0 0 0 0 0 0 0 0 0 0 0 0 0 0 0 0]\n",
      " [0 0 0 0 0 0 0 0 0 0 0 0 0 0 0 0 0 0 0 0 0 0 0 0 0 0 0 0 0 0 0 0 0 0 0]\n",
      " [0 0 0 0 0 0 0 0 0 0 0 0 0 0 0 0 0 0 0 0 0 0 0 0 0 0 0 0 0 0 0 0 0 0 0]\n",
      " [0 0 0 0 0 0 0 0 0 0 0 0 0 0 0 0 0 0 0 0 0 0 0 0 0 0 0 0 0 0 0 0 0 0 0]\n",
      " [0 0 0 0 0 0 0 0 0 0 0 0 0 0 0 0 0 0 0 0 0 0 0 0 0 0 0 0 0 0 0 0 0 0 0]\n",
      " [0 0 0 0 0 0 0 0 0 0 0 0 0 0 0 0 0 0 0 0 0 0 0 0 0 0 0 0 0 0 0 0 0 0 0]\n",
      " [0 0 0 0 0 0 0 0 0 0 0 0 0 0 0 0 0 0 0 0 0 0 0 0 0 0 0 0 0 0 0 0 0 0 0]\n",
      " [0 0 0 0 0 0 0 0 0 0 0 0 0 0 0 0 0 0 0 0 0 2 2 2 2 2 0 0 0 0 0 0 0 0 0]\n",
      " [0 0 0 0 0 0 0 0 0 0 0 0 0 0 0 0 0 0 0 0 0 2 2 2 2 2 0 0 0 0 0 0 0 0 0]\n",
      " [0 0 0 0 0 0 0 0 0 0 0 0 0 0 0 0 0 0 0 0 2 2 2 2 2 0 0 0 0 0 0 0 0 0 0]\n",
      " [0 0 0 0 0 0 0 0 0 0 0 0 0 0 0 0 0 0 0 2 2 2 2 2 2 0 0 0 0 0 0 0 0 0 0]\n",
      " [0 0 0 0 0 0 0 0 0 0 0 0 0 0 0 0 0 0 2 2 2 2 2 2 0 0 0 0 0 0 0 0 0 0 0]\n",
      " [0 0 0 0 0 0 0 0 0 0 0 0 0 0 0 0 0 2 2 2 2 2 2 2 0 0 0 0 0 0 0 0 0 0 0]\n",
      " [0 0 0 0 0 0 0 0 0 0 0 0 0 0 0 0 2 2 2 2 2 2 2 0 0 0 0 0 0 0 0 0 0 0 0]\n",
      " [0 0 0 0 0 0 0 0 0 0 0 0 0 0 0 0 2 2 2 2 2 2 2 0 0 0 0 0 0 0 0 0 0 0 0]\n",
      " [0 0 0 0 0 0 0 0 0 0 0 0 0 0 0 2 2 2 2 2 2 2 0 0 0 0 0 0 0 0 0 0 0 0 0]\n",
      " [0 0 0 0 0 0 0 0 0 0 0 0 0 0 2 2 2 2 2 2 2 0 0 0 0 0 0 0 0 0 0 0 0 0 0]\n",
      " [0 0 0 0 0 0 0 0 0 0 0 0 0 0 2 2 2 2 2 2 2 0 0 0 0 0 0 0 0 0 0 0 0 0 0]\n",
      " [0 0 0 0 0 0 0 0 0 0 0 0 0 0 2 2 2 2 2 2 0 0 0 0 0 0 0 0 0 0 0 0 0 0 0]\n",
      " [0 0 0 0 0 0 0 0 0 0 0 0 0 0 2 2 2 2 2 2 0 0 0 0 0 0 0 0 0 0 0 0 0 0 0]\n",
      " [0 0 0 0 0 0 0 0 0 0 0 0 0 0 2 2 2 2 2 0 0 0 0 0 0 0 0 0 0 0 0 0 0 0 0]\n",
      " [0 0 0 0 0 0 0 0 0 0 0 0 0 2 2 2 2 2 2 0 0 0 0 0 0 0 0 0 0 0 0 0 0 0 0]\n",
      " [0 0 0 0 0 0 0 0 0 0 0 0 0 2 2 2 2 2 2 0 0 0 0 0 0 0 0 0 0 0 0 0 0 0 0]\n",
      " [0 0 0 0 0 0 0 0 0 0 0 0 0 2 2 2 2 2 0 0 0 0 0 0 0 0 0 0 0 0 0 0 0 0 0]\n",
      " [0 0 0 0 0 0 0 0 0 0 0 0 2 2 2 2 2 2 0 0 0 0 0 0 0 0 0 0 0 0 0 0 0 0 0]\n",
      " [0 0 0 0 0 0 0 0 0 0 0 2 2 2 2 2 2 2 0 0 0 0 0 0 0 0 0 0 0 0 0 0 0 0 0]\n",
      " [0 0 0 0 0 0 0 0 0 0 0 1 1 1 1 1 1 0 0 0 0 0 0 0 0 0 0 0 0 0 0 0 0 0 0]\n",
      " [0 0 0 0 0 0 0 0 0 0 1 1 1 1 1 1 1 0 0 0 0 0 0 0 0 0 0 0 0 0 0 0 0 0 0]\n",
      " [0 0 0 0 0 0 0 0 0 1 1 1 1 1 1 1 0 0 0 0 0 0 0 0 0 0 0 0 0 0 0 0 0 0 0]\n",
      " [0 0 0 0 0 0 0 0 0 1 1 1 1 1 1 0 0 0 0 0 0 0 0 0 0 0 0 0 0 0 0 0 0 0 0]\n",
      " [0 0 0 0 0 0 0 0 1 1 1 1 1 1 1 0 0 0 0 0 0 0 0 0 0 0 0 0 0 0 0 0 0 0 0]\n",
      " [0 0 0 0 0 0 0 0 1 1 1 1 1 1 0 0 0 0 0 0 0 0 0 0 0 0 0 0 0 0 0 0 0 0 0]\n",
      " [0 0 0 0 0 0 0 0 1 1 1 1 1 0 0 0 0 0 0 0 0 0 0 0 0 0 0 0 0 0 0 0 0 0 0]\n",
      " [0 0 0 0 0 0 0 0 0 1 1 1 0 0 0 0 0 0 0 0 0 0 0 0 0 0 0 0 0 0 0 0 0 0 0]\n",
      " [0 0 0 0 0 0 0 0 0 0 0 0 0 0 0 0 0 0 0 0 0 0 0 0 0 0 0 0 0 0 0 0 0 0 0]\n",
      " [0 0 0 0 0 0 0 0 0 0 0 0 0 0 0 0 0 0 0 0 0 0 0 0 0 0 0 0 0 0 0 0 0 0 0]\n",
      " [0 0 0 0 0 0 0 0 0 0 0 0 0 0 0 0 0 0 0 0 0 0 0 0 0 0 0 0 0 0 0 0 0 0 0]\n",
      " [0 0 0 0 0 0 0 0 0 0 0 0 0 0 0 0 0 0 0 0 0 0 0 0 0 0 0 0 0 0 0 0 0 0 0]\n",
      " [0 0 0 0 0 0 0 0 0 0 0 0 0 0 0 0 0 0 0 0 0 0 0 0 0 0 0 0 0 0 0 0 0 0 0]\n",
      " [0 0 0 0 0 0 0 0 0 0 0 0 0 0 0 0 0 0 0 0 0 0 0 0 0 0 0 0 0 0 0 0 0 0 0]\n",
      " [0 0 0 0 0 0 0 0 0 0 0 0 0 0 0 0 0 0 0 0 0 0 0 0 0 0 0 0 0 0 0 0 0 0 0]\n",
      " [0 0 0 0 0 0 0 0 0 0 0 0 0 0 0 0 0 0 0 0 0 0 0 0 0 0 0 0 0 0 0 0 0 0 0]\n",
      " [0 0 0 0 0 0 0 0 0 0 0 0 0 0 0 0 0 0 0 0 0 0 0 0 0 0 0 0 0 0 0 0 0 0 0]\n",
      " [0 0 0 0 0 0 0 0 0 0 0 0 0 0 0 0 0 0 0 0 0 0 0 0 0 0 0 0 0 0 0 0 0 0 0]\n",
      " [0 0 0 0 0 0 0 0 0 0 0 0 0 0 0 0 0 0 0 0 0 0 0 0 0 0 0 0 0 0 0 0 0 0 0]\n",
      " [0 0 0 0 0 0 0 0 0 0 0 0 0 0 0 0 0 0 0 0 0 0 0 0 0 0 0 0 0 0 0 0 0 0 0]]\n"
     ]
    }
   ],
   "source": [
    "# Disable truncation\n",
    "np.set_printoptions(threshold=np.inf)\n",
    "\n",
    "# Choose slice index\n",
    "slice_index = 10\n",
    "\n",
    "# Print full image slice (rounded)\n",
    "print(\"🧠 Image Slice Values (img[13, :, :]):\")\n",
    "print(np.round(img[slice_index, :, :], 2))\n",
    "\n",
    "# Print full label slice (as ints)\n",
    "print(\"\\n🏷️ Label Slice Values (labl[13, :, :]):\")\n",
    "print(labl[slice_index, :, :].astype(int))\n"
   ]
  },
  {
   "cell_type": "code",
   "execution_count": 32,
   "metadata": {},
   "outputs": [
    {
     "name": "stdout",
     "output_type": "stream",
     "text": [
      "Image shape: (35, 51, 35)\n",
      "Label shape: (35, 51, 35)\n"
     ]
    },
    {
     "data": {
      "image/png": "[encoded data removed]",
      "text/plain": [
       "<Figure size 1200x600 with 10 Axes>"
      ]
     },
     "metadata": {},
     "output_type": "display_data"
    }
   ],
   "source": [
    "# Define paths to images and labels\n",
    "ipath = \"/ComputerVision/UDACITY_AI_HEALTHCARE/Course 3 - Applying AI for 3D Medical Imaging/Udacity_AI_Healthcare_P2_Hippocampus-Volume-Quantification/section1/data/TrainingSet/images\"\n",
    "mpath = \"/ComputerVision/UDACITY_AI_HEALTHCARE/Course 3 - Applying AI for 3D Medical Imaging/Udacity_AI_Healthcare_P2_Hippocampus-Volume-Quantification/section1/data/TrainingSet/labels\"\n",
    "\n",
    "# Load an example image and label\n",
    "image_file = os.listdir(ipath)[0]  # Select the first image\n",
    "label_file = os.listdir(mpath)[0]  # Select the corresponding label\n",
    "\n",
    "image = nib.load(os.path.join(ipath, image_file)).get_fdata()\n",
    "label = nib.load(os.path.join(mpath, label_file)).get_fdata()\n",
    "\n",
    "# Check dimensions\n",
    "print(\"Image shape:\", image.shape)\n",
    "print(\"Label shape:\", label.shape)\n",
    "\n",
    "# Plot slices\n",
    "plt.rcParams[\"figure.figsize\"] = (12, 6)\n",
    "fig, axs = plt.subplots(2, 5)\n",
    "\n",
    "# Plot five slices from the image and label\n",
    "for i in range(5):\n",
    "    slice_idx = image.shape[2] // 5 * i\n",
    "\n",
    "    # Image slice\n",
    "    axs[0, i].imshow(image[:, :, slice_idx], cmap=\"gray\")\n",
    "    axs[0, i].set_title(f\"Image Slice {slice_idx}\")\n",
    "    axs[0, i].axis(\"off\")\n",
    "\n",
    "    # Label slice\n",
    "    axs[1, i].imshow(label[:, :, slice_idx], cmap=\"hot\", alpha=0.5)\n",
    "    axs[1, i].set_title(f\"Label Slice {slice_idx}\")\n",
    "    axs[1, i].axis(\"off\")\n",
    "\n",
    "plt.tight_layout()\n",
    "plt.show()\n"
   ]
  },
  {
   "cell_type": "markdown",
   "metadata": {},
   "source": [
    "Load volume into 3D Slicer to validate that your visualization is correct and get a feel for the shape of structures.Try to get a visualization like the one below (hint: while Slicer documentation is not particularly great, there are plenty of YouTube videos available! Just look it up on YouTube if you are not sure how to do something)\n",
    "\n",
    "![3D slicer](img/Slicer.png)"
   ]
  },
  {
   "cell_type": "code",
   "execution_count": 33,
   "metadata": {},
   "outputs": [],
   "source": [
    "# Stand out suggestion: use one of the simple Volume Rendering algorithms that we've\n",
    "# implemented in one of our earlier lessons to visualize some of these volumes\n",
    "vr_image = np.zeros((img.shape[1], img.shape[2]))\n",
    "\n",
    "for x in range(img.shape[0]):\n",
    "    vr_image +=img[x,:,:]"
   ]
  },
  {
   "cell_type": "code",
   "execution_count": 34,
   "metadata": {},
   "outputs": [],
   "source": [
    "vr_mask = np.zeros((img.shape[1], img.shape[2]))\n",
    "\n",
    "for x in range(labl.shape[0]):\n",
    "    vr_mask += labl[x,:,:]"
   ]
  },
  {
   "cell_type": "code",
   "execution_count": 35,
   "metadata": {},
   "outputs": [
    {
     "data": {
      "text/plain": [
       "<matplotlib.image.AxesImage at 0x1d52930f670>"
      ]
     },
     "execution_count": 35,
     "metadata": {},
     "output_type": "execute_result"
    },
    {
     "data": {
      "image/png": "[encoded data removed]",
      "text/plain": [
       "<Figure size 1200x600 with 2 Axes>"
      ]
     },
     "metadata": {},
     "output_type": "display_data"
    }
   ],
   "source": [
    "#vizualization of the image and label volume\n",
    "fig, ax = plt.subplots(1,2)\n",
    "ax[0].imshow(nd.rotate(vr_image,90), cmap=\"gray\")\n",
    "ax[1].imshow(nd.rotate(vr_mask,90),cmap='gray')"
   ]
  },
  {
   "cell_type": "markdown",
   "metadata": {},
   "source": [
    "## Looking at single image data\n",
    "In this section we will look closer at the NIFTI representation of our volumes. In order to measure the physical volume of hippocampi, we need to understand the relationship between the sizes of our voxels and the physical world."
   ]
  },
  {
   "cell_type": "code",
   "execution_count": 36,
   "metadata": {
    "scrolled": true
   },
   "outputs": [
    {
     "data": {
      "text/plain": [
       "nibabel.nifti1.Nifti1Header"
      ]
     },
     "execution_count": 36,
     "metadata": {},
     "output_type": "execute_result"
    }
   ],
   "source": [
    "# Nibabel supports many imaging formats, NIFTI being just one of them. I told you that our images \n",
    "# are in NIFTI, but you should confirm if this is indeed the format that we are dealing with\n",
    "# TASK: using .header_class attribute - what is the format of our images?\n",
    "img_1.header_class"
   ]
  },
  {
   "cell_type": "code",
   "execution_count": 37,
   "metadata": {},
   "outputs": [
    {
     "name": "stdout",
     "output_type": "stream",
     "text": [
      "Total images 263\n",
      "NIFTI images 263\n"
     ]
    }
   ],
   "source": [
    "print (\"Total images\",len(images))\n",
    "c=0\n",
    "for im in images:\n",
    "    if im.header_class == nib.nifti1.Nifti1Header:\n",
    "        c+=1\n",
    "print(\"NIFTI images\",c)  "
   ]
  },
  {
   "cell_type": "code",
   "execution_count": 38,
   "metadata": {},
   "outputs": [
    {
     "name": "stdout",
     "output_type": "stream",
     "text": [
      "<class 'nibabel.nifti1.Nifti1Header'> object, endian='<'\n",
      "sizeof_hdr      : 348\n",
      "data_type       : b''\n",
      "db_name         : b''\n",
      "extents         : 0\n",
      "session_error   : 0\n",
      "regular         : b'r'\n",
      "dim_info        : 0\n",
      "dim             : [ 3 35 51 35  1  1  1  1]\n",
      "intent_p1       : 0.0\n",
      "intent_p2       : 0.0\n",
      "intent_p3       : 0.0\n",
      "intent_code     : none\n",
      "datatype        : uint8\n",
      "bitpix          : 8\n",
      "slice_start     : 0\n",
      "pixdim          : [1. 1. 1. 1. 1. 0. 0. 0.]\n",
      "vox_offset      : 0.0\n",
      "scl_slope       : nan\n",
      "scl_inter       : nan\n",
      "slice_end       : 0\n",
      "slice_code      : unknown\n",
      "xyzt_units      : 10\n",
      "cal_max         : 0.0\n",
      "cal_min         : 0.0\n",
      "slice_duration  : 0.0\n",
      "toffset         : 0.0\n",
      "glmax           : 0\n",
      "glmin           : 0\n",
      "descrip         : b'5.0.10'\n",
      "aux_file        : b'none'\n",
      "qform_code      : scanner\n",
      "sform_code      : scanner\n",
      "quatern_b       : 0.0\n",
      "quatern_c       : 0.0\n",
      "quatern_d       : 0.0\n",
      "qoffset_x       : 1.0\n",
      "qoffset_y       : 1.0\n",
      "qoffset_z       : 1.0\n",
      "srow_x          : [1. 0. 0. 1.]\n",
      "srow_y          : [0. 1. 0. 1.]\n",
      "srow_z          : [0. 0. 1. 1.]\n",
      "intent_name     : b''\n",
      "magic           : b'n+1'\n"
     ]
    }
   ],
   "source": [
    "print(img_1.header)"
   ]
  },
  {
   "cell_type": "markdown",
   "metadata": {},
   "source": [
    "Further down we will be inspecting .header attribute that provides access to NIFTI metadata. You can use this resource as a reference for various fields: https://brainder.org/2012/09/23/the-nifti-file-format/"
   ]
  },
  {
   "cell_type": "code",
   "execution_count": 39,
   "metadata": {},
   "outputs": [
    {
     "data": {
      "text/plain": [
       "array(8, dtype=int16)"
      ]
     },
     "execution_count": 39,
     "metadata": {},
     "output_type": "execute_result"
    }
   ],
   "source": [
    "# TASK: How many bits per pixel are used?\n",
    "img_1.header['bitpix']"
   ]
  },
  {
   "cell_type": "markdown",
   "metadata": {},
   "source": [
    "**Answer:** As indicated by the bitpix header, 8 bits are used per pixel"
   ]
  },
  {
   "cell_type": "code",
   "execution_count": 40,
   "metadata": {},
   "outputs": [
    {
     "data": {
      "text/plain": [
       "array(10, dtype=uint8)"
      ]
     },
     "execution_count": 40,
     "metadata": {},
     "output_type": "execute_result"
    }
   ],
   "source": [
    "### TASK: What are the units of measurement?\n",
    "img_1.header['xyzt_units']"
   ]
  },
  {
   "cell_type": "code",
   "execution_count": 41,
   "metadata": {},
   "outputs": [
    {
     "data": {
      "text/plain": [
       "('mm', 'sec')"
      ]
     },
     "execution_count": 41,
     "metadata": {},
     "output_type": "execute_result"
    }
   ],
   "source": [
    "img_1.header.get_xyzt_units()"
   ]
  },
  {
   "cell_type": "markdown",
   "metadata": {},
   "source": [
    "**Answer:** \"xyzt_units\" header has a value of 10. the first 3 bits are for spatial dimensions and next 3 bits for temporal dimensions. 10 is 2+8 which means the units of measurement are millimeter(mm) and seconds"
   ]
  },
  {
   "cell_type": "code",
   "execution_count": 42,
   "metadata": {},
   "outputs": [
    {
     "data": {
      "text/plain": [
       "array([1., 1., 1., 1., 1., 0., 0., 0.], dtype=float32)"
      ]
     },
     "execution_count": 42,
     "metadata": {},
     "output_type": "execute_result"
    }
   ],
   "source": [
    "# TASK: Do we have a regular grid? What are grid spacings?\n",
    "img_1.header['pixdim']"
   ]
  },
  {
   "cell_type": "markdown",
   "metadata": {},
   "source": [
    "**Answer :** The pixdim indicates the grid spacings (unit per dimension). pixdim[1] to pixdim[4] indicates the spacing for the dimensions, which here all are =1, which means regular spacing"
   ]
  },
  {
   "cell_type": "code",
   "execution_count": 43,
   "metadata": {},
   "outputs": [
    {
     "data": {
      "text/plain": [
       "array([ 3, 35, 51, 35,  1,  1,  1,  1], dtype=int16)"
      ]
     },
     "execution_count": 43,
     "metadata": {},
     "output_type": "execute_result"
    }
   ],
   "source": [
    "# TASK: What dimensions represent axial, sagittal, and coronal slices? How do you know?\n",
    "img_1.header['dim']"
   ]
  },
  {
   "cell_type": "markdown",
   "metadata": {},
   "source": [
    "**Answer:** The dim header indicates that the image is 3D (dim[0] = 3). The spatial dimensions are dim[1] to dim[3], corresponding to (x, y, z) = (35, 51, 35). Conventionally:\n",
    "\n",
    "x (dim[1]) = sagittal plane (left–right slices)\n",
    "\n",
    "y (dim[2]) = coronal plane (front–back slices)\n",
    "\n",
    "z (dim[3]) = axial plane (top–bottom slices)"
   ]
  },
  {
   "cell_type": "code",
   "execution_count": 44,
   "metadata": {},
   "outputs": [
    {
     "data": {
      "text/plain": [
       "(1.0, 1.0, 1.0)"
      ]
     },
     "execution_count": 44,
     "metadata": {},
     "output_type": "execute_result"
    }
   ],
   "source": [
    "# By now you should have enough information to decide what are dimensions of a single voxel\n",
    "# TASK: Compute the volume (in mm³) of a hippocampus using one of the labels you've loaded. \n",
    "# You should get a number between ~2200 and ~4500\n",
    "img_1.header.get_zooms()"
   ]
  },
  {
   "cell_type": "markdown",
   "metadata": {},
   "source": [
    "**Answer :** The dimensions of a single voxel are 1 mm × 1 mm × 1 mm, resulting in a voxel volume of 1 mm³."
   ]
  },
  {
   "cell_type": "code",
   "execution_count": 45,
   "metadata": {},
   "outputs": [
    {
     "name": "stdout",
     "output_type": "stream",
     "text": [
      "[0. 1. 2.]\n"
     ]
    }
   ],
   "source": [
    "print (np.unique(labl))"
   ]
  },
  {
   "cell_type": "code",
   "execution_count": 46,
   "metadata": {},
   "outputs": [
    {
     "data": {
      "text/plain": [
       "2948"
      ]
     },
     "execution_count": 46,
     "metadata": {},
     "output_type": "execute_result"
    }
   ],
   "source": [
    "#volume of a hippocampus\n",
    "np.sum(labl>=1)"
   ]
  },
  {
   "cell_type": "markdown",
   "metadata": {},
   "source": [
    "## Plotting some charts"
   ]
  },
  {
   "cell_type": "code",
   "execution_count": 47,
   "metadata": {},
   "outputs": [
    {
     "data": {
      "text/plain": [
       "(array([258.,   3.,   0.,   0.,   0.,   0.,   0.,   0.,   0.,   1.]),\n",
       " array([ 2382.,  4214.,  6046.,  7878.,  9710., 11542., 13374., 15206.,\n",
       "        17038., 18870., 20702.]),\n",
       " <BarContainer object of 10 artists>)"
      ]
     },
     "execution_count": 47,
     "metadata": {},
     "output_type": "execute_result"
    },
    {
     "data": {
      "image/png": "[encoded data removed]",
      "text/plain": [
       "<Figure size 1200x600 with 1 Axes>"
      ]
     },
     "metadata": {},
     "output_type": "display_data"
    }
   ],
   "source": [
    "# TASK: Plot a histogram of all volumes that we have in our dataset and see how \n",
    "# our dataset measures against a slice of a normal population represented by the chart below.\n",
    "vol=np.array([np.sum(l.get_fdata()>=1) for l in labels])\n",
    "plt.xlabel(\"hippocampus volume\")\n",
    "plt.ylabel(\"Count\")\n",
    "plt.grid(\"on\")\n",
    "plt.hist(vol)"
   ]
  },
  {
   "cell_type": "code",
   "execution_count": 48,
   "metadata": {},
   "outputs": [
    {
     "name": "stdout",
     "output_type": "stream",
     "text": [
      "1\n",
      "2382\n",
      "20702\n",
      "262\n"
     ]
    }
   ],
   "source": [
    "print(np.sum(vol>4500))\n",
    "print (np.min(vol))\n",
    "print (np.max(vol))\n",
    "print (len(vol))"
   ]
  },
  {
   "cell_type": "markdown",
   "metadata": {},
   "source": [
    "<img src=\"img/nomogram_fem_right.svg\" width=400 align=left>"
   ]
  },
  {
   "cell_type": "markdown",
   "metadata": {},
   "source": [
    "Do you see any outliers? Why do you think it's so (might be not immediately obvious, but it's always a good idea to inspect) outliers closer. If you haven't found the images that do not belong, the histogram may help you."
   ]
  },
  {
   "cell_type": "markdown",
   "metadata": {},
   "source": [
    "In the real world we would have precise information about the ages and conditions of our patients, and understanding how our dataset measures against population norm would be the integral part of clinical validation that we talked about in last lesson. Unfortunately, we do not have this information about this dataset, so we can only guess why it measures the way it is. If you would like to explore further, you can use the [calculator from HippoFit project](http://www.smanohar.com/biobank/calculator.html) to see how our dataset compares against different population slices"
   ]
  },
  {
   "cell_type": "markdown",
   "metadata": {},
   "source": [
    "Did you notice anything odd about the label files? We hope you did! The mask seems to have two classes, labeled with values `1` and `2` respectively. If you visualized sagittal or axial views, you might have gotten a good guess of what those are. Class 1 is the anterior segment of the hippocampus and class 2 is the posterior one. \n",
    "\n",
    "For the purpose of volume calculation we do not care about the distinction, however we will still train our network to differentiate between these two classes and the background"
   ]
  },
  {
   "cell_type": "code",
   "execution_count": 49,
   "metadata": {},
   "outputs": [
    {
     "name": "stdout",
     "output_type": "stream",
     "text": [
      "Image size of image with incorrect sizes, probably corrupt : (512, 512, 241), file name: hippocampus_010.nii.gz\n",
      "Image size of image with incorrect sizes, probably corrupt : (512, 512, 31), file name: hippocampus_281.nii.gz\n",
      "Final numner of files that can be used for training is  260\n"
     ]
    }
   ],
   "source": [
    "# TASK: Copy the clean dataset to the output folder inside section1/out. You will use it in the next Section\n",
    "images_final,labels_final=[],[]\n",
    "timages_final,tlabels_final=[],[]\n",
    "\n",
    "if not os.path.exists('out/images'):\n",
    "    os.makedirs('out/images')\n",
    "    \n",
    "if not os.path.exists('out/labels'):\n",
    "    os.makedirs('out/labels')\n",
    "\n",
    "ti_path = 'out/images'\n",
    "tm_path = 'out/labels'\n",
    "\n",
    "for f in os.listdir(mpath):\n",
    "    fp=os.path.join(mpath, f)\n",
    "    mask =nib.load(os.path.join(mpath, f)).get_fdata() \n",
    "    image=nib.load(os.path.join(ipath, f)).get_fdata()\n",
    "    \n",
    "    if (np.sum(mask>=1) <=4700) and (image.shape[0] <=64):\n",
    "        \n",
    "        images_final.append(os.path.join(ipath, f))\n",
    "        labels_final.append(fp)\n",
    "        timages_final.append(os.path.join(ti_path, f))\n",
    "        tlabels_final.append(os.path.join(tm_path, f))\n",
    "     \n",
    "    else:\n",
    "        print (\"Image size of image with incorrect sizes, probably corrupt : {}, file name: {}\".format(image.shape , f))\n",
    "print (\"Final numner of files that can be used for training is \",len(labels_final))\n",
    "\n",
    "import shutil\n",
    "ci=[shutil.copy(si,ti) for si,ti in zip(images_final,timages_final)]\n",
    "cl=[shutil.copy(si,ti) for si,ti in zip(labels_final,tlabels_final)]"
   ]
  },
  {
   "cell_type": "code",
   "execution_count": 54,
   "metadata": {},
   "outputs": [
    {
     "data": {
      "image/png": "[encoded data removed]",
      "text/plain": [
       "<Figure size 1000x400 with 1 Axes>"
      ]
     },
     "metadata": {},
     "output_type": "display_data"
    }
   ],
   "source": [
    "valid_masks=[nib.load(os.path.join(mpath, l)).get_fdata() for l in labels_final]\n",
    "vol=[np.sum(mask>=1) for mask in valid_masks]\n",
    "plt.rcParams[\"figure.figsize\"] = (10,4)\n",
    "plt.xlabel(\"Total Hippocampal Volume\")\n",
    "plt.ylabel(\"Count\")\n",
    "plt.grid(\"on\")\n",
    "total=plt.hist(vol,bins=20)"
   ]
  },
  {
   "cell_type": "code",
   "execution_count": 55,
   "metadata": {},
   "outputs": [
    {
     "data": {
      "image/png": "[encoded data removed]",
      "text/plain": [
       "<Figure size 1000x400 with 1 Axes>"
      ]
     },
     "metadata": {},
     "output_type": "display_data"
    }
   ],
   "source": [
    "post_vol=[np.sum(mask==2) for mask in valid_masks]\n",
    "    \n",
    "plt.xlabel(\"Posterior Volume Only\")\n",
    "plt.ylabel(\"Count\")\n",
    "plt.grid(\"on\")\n",
    "posterior=plt.hist(post_vol,bins=20)"
   ]
  },
  {
   "cell_type": "code",
   "execution_count": 57,
   "metadata": {},
   "outputs": [
    {
     "data": {
      "image/png": "[encoded data removed]",
      "text/plain": [
       "<Figure size 1000x400 with 1 Axes>"
      ]
     },
     "metadata": {},
     "output_type": "display_data"
    }
   ],
   "source": [
    "ant_vol=[np.sum(mask==1) for mask in valid_masks]\n",
    "plt.xlabel(\"Anterior Volume Only\")\n",
    "plt.ylabel(\"Count\")\n",
    "plt.grid(\"on\")\n",
    "anterior=plt.hist(ant_vol,bins=20)"
   ]
  },
  {
   "cell_type": "markdown",
   "metadata": {},
   "source": [
    "## Final remarks\n",
    "\n",
    "Congratulations! You have finished Section 1. \n",
    "\n",
    "In this section you have inspected a dataset of MRI scans and related segmentations, represented as NIFTI files. We have visualized some slices, and understood the layout of the data. We have inspected file headers to understand what how the image dimensions relate to the physical world and we have understood how to measure our volume. We have then inspected dataset for outliers, and have created a clean set that is ready for consumption by our ML algorithm. \n",
    "\n",
    "In the next section you will create training and testing pipelines for a UNet-based machine learning model, run and monitor the execution, and will produce test metrics. This will arm you with all you need to use the model in the clinical context and reason about its performance!"
   ]
  }
 ],
 "metadata": {
  "kernelspec": {
   "display_name": "nanodegreeCV6",
   "language": "python",
   "name": "python3"
  },
  "language_info": {
   "codemirror_mode": {
    "name": "ipython",
    "version": 3
   },
   "file_extension": ".py",
   "mimetype": "text/x-python",
   "name": "python",
   "nbconvert_exporter": "python",
   "pygments_lexer": "ipython3",
   "version": "3.10.16"
  }
 },
 "nbformat": 4,
 "nbformat_minor": 4
}
